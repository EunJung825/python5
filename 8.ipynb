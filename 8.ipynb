{
 "cells": [
  {
   "cell_type": "markdown",
   "metadata": {},
   "source": [
    "# 8. 6강통신망의분류\n",
    "#### 전용회선/교환회선\n",
    "#### 회선구성방식\n",
    "성형/버스형/다중화방식\n",
    "\n",
    "## 7. 교환기술\n",
    "교환회선/회선교화방식/축적교환방식/패킷교환방식\n",
    "#### 네트워크 구성형태\n",
    "성형=스타형\n",
    "버스형\n",
    "링형=환형,루프형\n",
    "계층형\n",
    "망형\n",
    "\n",
    "## 8.공유회선 점유방식,경로제어,트래픽제어\n",
    "#### 공유회선점유방식(mac-엑세스제어)\n",
    "#### CSMA/CD\n",
    "#### 이더넷\n",
    "#### 경로제어\n",
    "라우터\n",
    "라우팅\n",
    "경로배정요소:성능기준,경로의결정시간과장소,네트워크정보발생지,경로정보갱신시간\n",
    "#### 경로 선택 알고리즘\n",
    "범람경로\n",
    "임의경로\n",
    "고정경로\n",
    "#### 라우팅프로토콜\n",
    "RIP\n",
    "IGP\n",
    "EGP\n",
    "BGP\n",
    "#### 트래픽제어\n",
    "흐름제어/혼잡제어/교착상태회피\n",
    "\n",
    "## 9.인터넷,통신망,네트워크장비\n",
    "#### LAN(근거리통신망)\n",
    "#### VAN(부가가치통신망)\n",
    "#### ISDN(종합정보통신망)\n",
    "종류:B/D/H/ISDN서비스기능(텔레서비스/베어러서비스)\n",
    "#### ADSL(비대칭 디지털 가입자 회선)\n",
    "#### 인터넷\n",
    "#### IP주소\n",
    "#### 도메인 네임\n",
    "#### 네트워크 장비\n",
    "허브\n",
    "리피터\n",
    "브리지\n",
    "라우터\n",
    "게이트웨이\n",
    "\n",
    "## 10.프로토콜,뉴미디어,멀티미디어\n",
    "#### 프로토콜 기본요소\n",
    "구문\n",
    "타이밍\n",
    "의미\n",
    "#### OSI7계층\n",
    "복잡도 최소화\n",
    "적은상호작용유지\n",
    "시스템 상호 간을 접속하기 위한 개념\n",
    "#### OSI참조 모델의 계층 기능 및 표준 프로토콜\n",
    "물리계층\n",
    "데이터링크계층\n",
    "네트워크계층\n",
    "전송계층\n",
    "세션계층\n",
    "표현계층\n",
    "응용계층\n",
    "#### 물리계층>FS232C\n",
    "#### 네트워크계층>X.25\n",
    "#### TCP/IP\n",
    "#### 국제 표준화 기구\n",
    "#### 뉴미디어\n",
    "#### CATV\n",
    "#### 비디오텍스\n",
    "#### 텔레텍스트\n",
    "#### 텔레텍스\n",
    "#### 멀티미디어\n"
   ]
  },
  {
   "cell_type": "code",
   "execution_count": null,
   "metadata": {},
   "outputs": [],
   "source": []
  }
 ],
 "metadata": {
  "kernelspec": {
   "display_name": "Python 3",
   "language": "python",
   "name": "python3"
  },
  "language_info": {
   "codemirror_mode": {
    "name": "ipython",
    "version": 3
   },
   "file_extension": ".py",
   "mimetype": "text/x-python",
   "name": "python",
   "nbconvert_exporter": "python",
   "pygments_lexer": "ipython3",
   "version": "3.8.5"
  },
  "toc": {
   "base_numbering": 1,
   "nav_menu": {},
   "number_sections": true,
   "sideBar": true,
   "skip_h1_title": false,
   "title_cell": "Table of Contents",
   "title_sidebar": "Contents",
   "toc_cell": false,
   "toc_position": {},
   "toc_section_display": true,
   "toc_window_display": false
  },
  "varInspector": {
   "cols": {
    "lenName": 16,
    "lenType": 16,
    "lenVar": 40
   },
   "kernels_config": {
    "python": {
     "delete_cmd_postfix": "",
     "delete_cmd_prefix": "del ",
     "library": "var_list.py",
     "varRefreshCmd": "print(var_dic_list())"
    },
    "r": {
     "delete_cmd_postfix": ") ",
     "delete_cmd_prefix": "rm(",
     "library": "var_list.r",
     "varRefreshCmd": "cat(var_dic_list()) "
    }
   },
   "types_to_exclude": [
    "module",
    "function",
    "builtin_function_or_method",
    "instance",
    "_Feature"
   ],
   "window_display": false
  }
 },
 "nbformat": 4,
 "nbformat_minor": 4
}
