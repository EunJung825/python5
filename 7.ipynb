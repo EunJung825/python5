{
 "cells": [
  {
   "cell_type": "markdown",
   "metadata": {},
   "source": [
    "# 7. 정보통신개론\n",
    "#### 1.데이터통신<정보통신\n",
    "#### 단말장치\n",
    "#### 신호변환장치\n",
    "#### 통신회선\n",
    "#### 통신제어장치\n",
    "\n",
    "## 2.통싱용어\n",
    "BPS/BAUD\n",
    "#### 베어러속도\n",
    "#### 주파수\n",
    "#### 샤논\n",
    "\n",
    "\n",
    "## 3.전송방식과 신호변환\n",
    "#### 아날로그/디지털전송\n",
    "#### 작렬/병렬전송\n",
    "#### 통신방식\n",
    "#### 비동기식,동기식전송\n",
    "#### PCM(펄스코드변조방식):A->D\n",
    "#### 코덱\n",
    "#### 디지털변조방식:D->A\n",
    "#### 모뎀\n",
    "#### 디지털변조방식:D->D\n",
    "#### DSU\n",
    "\n",
    "## 4. 다중화기\n",
    "다중화기(multiplexer)/주파수분할다중화기(FMD)/시분할다중화기(TDM)/동기식시분할다중화기(STDM)/비동기식시분할다중화기(ATDM)/역다중화기\n",
    "집중화기\n",
    "\n",
    "\n",
    "## 5.전송제어방식\n",
    "#### 회선제어5단계\n",
    "회선접속\n",
    "데이터링크클릭\n",
    "데이터전송\n",
    "데이터링크해제\n",
    "회선절단\n",
    "#### BSC/HDLC\n",
    "#### 회선제어방식\n",
    "오류제어(ARQ)\n",
    "#### 오류검출방식\n",
    "패리티검사\n",
    "CRC\n",
    "해밍코드\n",
    "상승코드\n",
    "궤환전송방식\n",
    "연속전송방식\n"
   ]
  },
  {
   "cell_type": "code",
   "execution_count": null,
   "metadata": {},
   "outputs": [],
   "source": []
  }
 ],
 "metadata": {
  "kernelspec": {
   "display_name": "Python 3",
   "language": "python",
   "name": "python3"
  },
  "language_info": {
   "codemirror_mode": {
    "name": "ipython",
    "version": 3
   },
   "file_extension": ".py",
   "mimetype": "text/x-python",
   "name": "python",
   "nbconvert_exporter": "python",
   "pygments_lexer": "ipython3",
   "version": "3.8.5"
  },
  "toc": {
   "base_numbering": 1,
   "nav_menu": {},
   "number_sections": true,
   "sideBar": true,
   "skip_h1_title": false,
   "title_cell": "Table of Contents",
   "title_sidebar": "Contents",
   "toc_cell": false,
   "toc_position": {},
   "toc_section_display": true,
   "toc_window_display": false
  },
  "varInspector": {
   "cols": {
    "lenName": 16,
    "lenType": 16,
    "lenVar": 40
   },
   "kernels_config": {
    "python": {
     "delete_cmd_postfix": "",
     "delete_cmd_prefix": "del ",
     "library": "var_list.py",
     "varRefreshCmd": "print(var_dic_list())"
    },
    "r": {
     "delete_cmd_postfix": ") ",
     "delete_cmd_prefix": "rm(",
     "library": "var_list.r",
     "varRefreshCmd": "cat(var_dic_list()) "
    }
   },
   "types_to_exclude": [
    "module",
    "function",
    "builtin_function_or_method",
    "instance",
    "_Feature"
   ],
   "window_display": false
  }
 },
 "nbformat": 4,
 "nbformat_minor": 4
}
