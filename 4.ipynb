{
 "cells": [
  {
   "cell_type": "markdown",
   "metadata": {},
   "source": [
    "# 6.연산의 분류,마이크로 오퍼레이션\n",
    "#### 비수칙연산: and,or,xor,not,논리 shift,rotate,move\n",
    "#### 수치적연산:+,-,*,/\n",
    "#### 단항/이항\n",
    "\n",
    "####  and연산(=masking연산)\n",
    "특정 문자,비트를삭제\n",
    "삭제할 부분 '0' bit\n",
    "#### xor연산\n",
    "2개 데이터를 비교,특정비트반전\n",
    "#### 논리 shift연산\n",
    "왼쪽 또는 오른쪽 n bit씩 자리 이동, 직렬전송,삽입되는 자리는0\n",
    "#### 산술 shift연산\n",
    "부호를 고려하여 자리를 이동시키는 연산\n",
    "#### 마이크로 오퍼레이션의 정의\n",
    "명령을 수행하기 위해 cpu내의 레지스터와 플래그가 의미 있는 상태 변환을 할 수 있도록 하는 동작\n",
    "제어신호에 의해 순서적으로 일어남\n",
    "#### 마이크로 오퍼레이션의 종류\n",
    "동기고정식/동기가변식/비동기식\n",
    "#### major state개념: cpu의 4가지 동작(상태)\n",
    "fetch/indirect/execute/interrupt\n",
    "#### majot state\n",
    "#### interrupt\n",
    "#### add\n",
    "#### and\n",
    "#### Lda\n",
    "#### sta\n",
    "#### bun\n",
    "#### isz\n",
    "\n",
    "# 8. 제어장치,입출력장치,인터럽트\n",
    "#### 제어장치 종류\n",
    "하드와이어드,마이크로프로그램\n",
    "#### 입출력장치\n",
    "#### I/O와 M/M차이점\n",
    "동작속도,정보단위,오류발생률,동작주체\n",
    "#### Channer(채널)\n",
    "선택채널,다중채널,Block Multiplexer\n",
    "#### Dma\n",
    "#### 인터럽트\n",
    "내부/외부\n",
    "#### 우선순위판별방법\n",
    "S/W    ,  H/W\n",
    "\n",
    "# 9. 기억장치 분류,주기억장치\n",
    "#### 기억장치 성능 평가 요소\n",
    "기억용량,편리성,응답성,신뢰도\n",
    "#### 주기억장치\n",
    "#### ROM\n",
    "#### RAM\n",
    "#### 자기 코어\n",
    "#### 주기억장치 용량 계산\n",
    "\n",
    "# 10. 보조기억장치\n",
    "#### 자기테이프(순차접근)\n",
    "#### 자기디스크(직접접근)\n",
    "#### 연관(연상)기억장치\n",
    "#### 복수 모듈메모리 기법\n",
    "#### 캐시메모리\n",
    "#### 가상기억장치\n",
    "#### 병렬 컴퓨터\n",
    "#### 병렬처리 컴퓨터 분류\n"
   ]
  },
  {
   "cell_type": "code",
   "execution_count": null,
   "metadata": {},
   "outputs": [],
   "source": []
  }
 ],
 "metadata": {
  "kernelspec": {
   "display_name": "Python 3",
   "language": "python",
   "name": "python3"
  },
  "language_info": {
   "codemirror_mode": {
    "name": "ipython",
    "version": 3
   },
   "file_extension": ".py",
   "mimetype": "text/x-python",
   "name": "python",
   "nbconvert_exporter": "python",
   "pygments_lexer": "ipython3",
   "version": "3.8.5"
  },
  "toc": {
   "base_numbering": 1,
   "nav_menu": {},
   "number_sections": true,
   "sideBar": true,
   "skip_h1_title": false,
   "title_cell": "Table of Contents",
   "title_sidebar": "Contents",
   "toc_cell": false,
   "toc_position": {},
   "toc_section_display": true,
   "toc_window_display": false
  },
  "varInspector": {
   "cols": {
    "lenName": 16,
    "lenType": 16,
    "lenVar": 40
   },
   "kernels_config": {
    "python": {
     "delete_cmd_postfix": "",
     "delete_cmd_prefix": "del ",
     "library": "var_list.py",
     "varRefreshCmd": "print(var_dic_list())"
    },
    "r": {
     "delete_cmd_postfix": ") ",
     "delete_cmd_prefix": "rm(",
     "library": "var_list.r",
     "varRefreshCmd": "cat(var_dic_list()) "
    }
   },
   "types_to_exclude": [
    "module",
    "function",
    "builtin_function_or_method",
    "instance",
    "_Feature"
   ],
   "window_display": false
  }
 },
 "nbformat": 4,
 "nbformat_minor": 4
}
