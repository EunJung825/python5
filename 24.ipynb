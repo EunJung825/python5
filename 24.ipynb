{
 "cells": [
  {
   "cell_type": "markdown",
   "metadata": {},
   "source": [
    "## 2015.03.08. 1회\n",
    "\n",
    "1과목\n",
    "1.릴레이션개념/스키마-개념스키마/중위->전위표기방식/스택/비선형,선형구조/개체-관계모델(P.Chen)/스택-입력자료/데이터베이스설계-물리적/관계형데이터모델-릴레이션특징/버블정렬/색인순차파일/데이터모델정의요소-구조,연산,제약조건/SQL-DDL/외래키/스텍/데이터베이스설계단계\n",
    "2.\n",
    "\n",
    "2과목\n",
    "캐시기억장치/인터럽트/스택/반가산기게이트종류/스택/채널명령어(CCW구성요소)/\n",
    "\n",
    "3과목\n",
    "입력설계순서/소프트웨어개발주기모델-폭포수/문서화/트랜잭션파일/파일설계단계-파일매체검토고려사항/캡슐화/출력설계단계/모듈작성/코드오류종류/표준처리패턴/프로세스설계/\n",
    "\n",
    "4과목\n",
    "트리디렉토리/운영체제목적/시분할체제/UNIX/교착상태/페이지크기/스래싱/분산운영체제/프로세스/배치전략기법-Worstfit/임계구역원칙/rr방식/강결합시스템\n",
    "\n",
    "5과목\n",
    "병렬전송방식/데이터전송오류검출방식/정보통신시스템/프로토콜/OSI-7계층/패킷교환방식/VAN계층구조(통신처리계층)/데이터 전송제어절차/광섬유\n",
    "\n",
    "\n"
   ]
  },
  {
   "cell_type": "code",
   "execution_count": null,
   "metadata": {},
   "outputs": [],
   "source": []
  }
 ],
 "metadata": {
  "kernelspec": {
   "display_name": "Python 3",
   "language": "python",
   "name": "python3"
  },
  "language_info": {
   "codemirror_mode": {
    "name": "ipython",
    "version": 3
   },
   "file_extension": ".py",
   "mimetype": "text/x-python",
   "name": "python",
   "nbconvert_exporter": "python",
   "pygments_lexer": "ipython3",
   "version": "3.8.5"
  },
  "toc": {
   "base_numbering": 1,
   "nav_menu": {},
   "number_sections": true,
   "sideBar": true,
   "skip_h1_title": false,
   "title_cell": "Table of Contents",
   "title_sidebar": "Contents",
   "toc_cell": false,
   "toc_position": {},
   "toc_section_display": true,
   "toc_window_display": false
  },
  "varInspector": {
   "cols": {
    "lenName": 16,
    "lenType": 16,
    "lenVar": 40
   },
   "kernels_config": {
    "python": {
     "delete_cmd_postfix": "",
     "delete_cmd_prefix": "del ",
     "library": "var_list.py",
     "varRefreshCmd": "print(var_dic_list())"
    },
    "r": {
     "delete_cmd_postfix": ") ",
     "delete_cmd_prefix": "rm(",
     "library": "var_list.r",
     "varRefreshCmd": "cat(var_dic_list()) "
    }
   },
   "types_to_exclude": [
    "module",
    "function",
    "builtin_function_or_method",
    "instance",
    "_Feature"
   ],
   "window_display": false
  }
 },
 "nbformat": 4,
 "nbformat_minor": 4
}
