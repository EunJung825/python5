{
 "cells": [
  {
   "cell_type": "markdown",
   "metadata": {},
   "source": [
    "# 6.SQL,시스템카탈로그뷰\n",
    "### sql특징: 고급데이터언어,쉬운형태,대화식,정의.조작.제어기능,비절차적\n",
    "#### 1) 테이블을 생성 합니다.\n",
    "CREATE TABLE 학과 (학과코드 CHAR(18), 학과명 CHAR(18));\n",
    "#### 2) 자료(튜플)를 입력 합니다.\n",
    "INSERT INTO 학과 VALUES (‘A001’,’정보’);\n",
    "#### 3) 자료(튜플)를 검색 합니다.\n",
    "SELECT * FROM 학과;\n",
    "#### 4) 자료(튜플)를 수정 합니다. \n",
    "UPDATE 학과 SET 학과명=‘사무’ WHERE 학과코드=‘A001’; \n",
    "#### 5) 자료(튜플)를 삭제 합니다.\n",
    "DELETE FROM 학과;\n",
    "#### 6) 테이블을 삭제 합니다.\n",
    "DROP TABLE 학과;\n",
    "### 시스템 카탈로그(=데이터사전)\n",
    "상이한구조,스스로갱신유지,스키마정보제공\n",
    "### sql구분\n",
    "1) 정의어:DDL (CREATE, ALTER, DROP) \n",
    "정의 변경 제거\n",
    "2) 조작어:DML (SELECT, INSERT, DELETE, UPDATE) \n",
    "검색 삽입 삭제 갱신\n",
    "3) 제어어:DCL (GRANT, REVOKE, COMMIT, ROLLBACK) \n",
    "권한부여 권한취소 transaction 제어\n",
    "### DDL(데이터정의어)\n",
    ": 도메인, 테이블, 뷰, 인덱스를 정의, 변경, 제거하는 언어\n",
    "### VIEW특징\n",
    "물리적구현되지않음, 논리적독립성제공,자동보안,독립적인덱스 못가짐\n",
    "### ALTER ADD 추가\n",
    "### ALTER DROP 제거\n",
    "### CASCADE : 참조하는 테이블을 연쇄적으로 제거\n",
    "#### RESTRICT : 참조하는 테이블이 있을 경우 제거 안 됨 (생략 가능\n",
    "#### DLM(데이터조작어)\n",
    "자료(튜플)를 검색(SELECT), 삽입(INSERT), 삭제(DELETE), 갱신(UPDATE)\n",
    "#### INAWER INTO     ,   DELETE FROM  ,   UPDATE, WHERE(조건)\n",
    "#### SELECT(기본구조)\n",
    "SELECT 속성 -> 속성 외에 식이나 그룹함수가 올 수 있다.\n",
    "FROM 테이블\n",
    "[WHERE 조건]; -> [ ] 생략 가능\n",
    "#### SELECT DISTINCT 과목 FROM 수강생;\n",
    "-> 수강생 테이블에서 중복 제거 된 과목만 검색하시오.\n",
    "#### SELECT * FROM 수강생 WHERE 과목=‘정보’;\n",
    "-> 수강생 테이블에서 과목이 정보인 모든 튜플을 검색하시오.\n",
    "#### SELECT * FROM 수강생 WHERE 과목=‘컴활’ OR 과목=‘워드’;\n",
    "-> 수강생 테이블에서 과목이 컴활 이거나 워드인 모든 튜플을 검색하시오\n",
    "#### SELECT * FROM 수강생 WHERE 이름 LIKE ‘김%’;\n",
    "-> 수강생 테이블에서 이름이 ‘김’으로 시작하는 모든 튜플을 검색하시오.\n",
    "#### SELECT * FROM 수강생 WHERE 수강료 BETWEEN 30 AND 90;\n",
    "-> 수강생 테이블에서 수강료가 30이상 90이하인 모든 튜플을 검색하시오.\n",
    "#### SELECT * FROM 수강생 WHERE 과목 IS NULL;\n",
    "-> 수강생 테이블에서 과목이 NULL인 모든 튜플을 검색하시오. (주의 : CREATE 문은 IS 를 생략)\n",
    "#### 그룹함수\n",
    "COUNT(속성) : 그룹별 튜플 수\n",
    "AVG(속성) : 그룹별 평균\n",
    "SUM(속성) : 그룹별 합계\n",
    "MAX(속성) : 그룹별 최대값\n",
    "MIN(속성) : 그룹별 최소값\n",
    "#### DCL(데이터 제어어)\n",
    "보안,회복,사용자,권한등을 정의 한다.\n",
    "#### GRANT(권한부여), REVOKE(권한취소)\n",
    "#### COMMIT(완료시킴) , ROLLBACK(이전상태로되돌림)\n"
   ]
  },
  {
   "cell_type": "markdown",
   "metadata": {},
   "source": [
    "# 7강-내장 SQL, 고급데이터베이스\n",
    "#### 내장SQL 목적: 일괄처리,동일 업무 반복, 세미클론;\n",
    "#### SQL CODE(SQL상태)\n",
    "#### 트랜잭션정의:상태를 변화시키는 논리적 연산의 집합\n",
    "#### 트랜잭션 특징\n",
    "원자성,일관성,독립성,격리성,영속성,지속성\n",
    "#### 연산의 종류\n",
    "commit(연산이 완료됨 알려줌)\n",
    "rollback(원래의 상태로 원상복귀)\n",
    "#### 회복: 장애가 발생하여 데이터베이스가 손상입었기에 이전 상태로 복구\n",
    "#### 장애의 유형: 트랜잭션장애,시스템장애, 미디어장애\n",
    "#### 보안,암호화\n",
    "개인키:암호화키=복호화키\n",
    "공개키:암호화키<>복호화키\n",
    "\n",
    "무결성:권한있는 데이터보호\n",
    "보안:권한이없는 데이터보호\n",
    "\n",
    "#### 병행제어 정의\n",
    "데이터베이스 일관성 유지\n",
    "#### 병행제어 목적\n",
    "공유최대화,시스템활용도최대화,일관성유지,응답시간최소화\n",
    "#### 병행제어 기법\n",
    "로킹:하나의 트랜잭션이 데이터를 액세스하는 동안 다른 트랜잭션이 그 데이터 항목을 액세스할 수 없도록 하는 방법\n",
    "#### 로킹단위\n",
    "로킹 단위가 크면 -> 로크수가 작다. -> 관리가 수월해지고 병행성 수준↓\n",
    "로킹 단위가 작으면 -> 로크수가 커진다. -> 관리가 복잡해지고 병행성 수준↑\n",
    "#### 병행수행 문제점\n",
    "갱신분실/비완료의존성/불일치\n",
    "#### 분산 데이터베이스 정의\n",
    "분산된 데이터베이스를 논리적으로1개로 인식\n",
    "#### 분산 데이터베이스 4대 목표\n",
    "위치,중복,병행,장애투명성\n",
    "#### 분산 데이터베이스의 특징\n",
    "자료공유용이,시스템성능향상,점증적 시스템용량확장용이,설계어렵고,소프트웨어개발비용증가, 오류 발생 가능성높음\n",
    "\n"
   ]
  },
  {
   "cell_type": "markdown",
   "metadata": {},
   "source": [
    "# 8.자료구조(선형,비선형구조)\n",
    "#### 자료구조분류\n",
    "선형구조:순차,연결\n",
    "비선형:Tree,Graph\n",
    "#### 선형구조\n",
    "순차리스트:연속적인 기억장소에 저장\n",
    "구조간단,기억장소 이용 효율 높음, 삽입,삭제 어려움,연결리스트에 비해 검색 빠름\n",
    "연결리스트:비연속적으로 저장\n",
    "포인터\n",
    "기억장소 이용 효율 낮음, 삽입/삭제용이, 순차리스트에 비해 검색 느림\n",
    "#### 선형구조>순차리스트>스택\n",
    "삽입/삭제가 한 쪽에서 이루어지는 데이터 구조(LIFO)\n",
    "#### 선형구조>순차리스트>큐\n",
    "한쪽끝에서 다른쪽끝에서 수행되는 자료구조\n",
    "#### 선형구조>순차리스트>데크\n",
    "양쪽 끝에서 발생할 수 있는 자료 구조\n",
    "#### 비선형구조>트리\n",
    "부모자식관계\n",
    "#### 트리의종류>이진트리\n",
    "차수가2이하구성\n",
    "#### 트리의종류>스레드 이진트리\n",
    "널링크를 다른 노드를 가리키는 포인터로 대체\n",
    "#### 트리의종류> B-트리\n",
    "균형유지, 키값은 오름차순, 인덱스구성하는방법\n",
    "#### 이진 트리 운행법\n",
    "트리를 구성하는 노드를 찾아가는 방법\n",
    "전위:Root-Left-right\n",
    "중위:L-Root-r\n",
    "후위:L-r-Root\n",
    "#### Graph\n",
    "노드와 간선으로 구성되어져 있고, 사이클이 있다.\n",
    "\n"
   ]
  },
  {
   "cell_type": "markdown",
   "metadata": {},
   "source": [
    "# 9. 자료구조(정렬,검색,해싱)\n",
    "#### 내부정렬:주기억장치/ 외부정렬:보조기억장치\n",
    "#### 정렬 알고리즘 선택시 고려사항\n",
    "데이터양,초기데이터의배열상태,키값들의분포상태,소요공간및작업시간\n",
    "#### 선택정렬:첫자리부터 정렬하기 (비교,교환)\n",
    "#### 버블정렬: 수면위로올라가는물방울\n",
    "#### 삽입정렬: 성적순으로 교실자리 배치\n",
    "#### 2-Way병합정렬:두개씩묶어서정렬\n",
    "### 선형검색(순차검색)/이분검색(중간값비교)\n",
    "#### 해싱: 신속하게 원하는 자료 검색, DAM(직접접근)"
   ]
  },
  {
   "cell_type": "markdown",
   "metadata": {},
   "source": [
    "# 10.자료구조(파일편성,인덱스)\n",
    "#### 순차파일(SAM):목차없는책\n",
    "#### 색인순차파일(ISAM):목차있는책,정적\n",
    "#### 직접파일(DAM):해싱함수계산해서 물리적 주소 직접접근\n",
    "#### VSAM:동적인덱스,가변길이 레코드를 쉽게 수용할 수 있음\n",
    "#### 역파일:찾아보기기능:시간단축,처리쉽다\n",
    "#### 인덱스:테이블의 레코드에 대한 엑세스 빠르게 수행,삽입과삭제가수시로일어나는경우 인덱스최대화"
   ]
  },
  {
   "cell_type": "code",
   "execution_count": null,
   "metadata": {},
   "outputs": [],
   "source": []
  }
 ],
 "metadata": {
  "kernelspec": {
   "display_name": "Python 3",
   "language": "python",
   "name": "python3"
  },
  "language_info": {
   "codemirror_mode": {
    "name": "ipython",
    "version": 3
   },
   "file_extension": ".py",
   "mimetype": "text/x-python",
   "name": "python",
   "nbconvert_exporter": "python",
   "pygments_lexer": "ipython3",
   "version": "3.8.5"
  },
  "toc": {
   "base_numbering": 1,
   "nav_menu": {},
   "number_sections": true,
   "sideBar": true,
   "skip_h1_title": false,
   "title_cell": "Table of Contents",
   "title_sidebar": "Contents",
   "toc_cell": false,
   "toc_position": {},
   "toc_section_display": true,
   "toc_window_display": false
  },
  "varInspector": {
   "cols": {
    "lenName": 16,
    "lenType": 16,
    "lenVar": 40
   },
   "kernels_config": {
    "python": {
     "delete_cmd_postfix": "",
     "delete_cmd_prefix": "del ",
     "library": "var_list.py",
     "varRefreshCmd": "print(var_dic_list())"
    },
    "r": {
     "delete_cmd_postfix": ") ",
     "delete_cmd_prefix": "rm(",
     "library": "var_list.r",
     "varRefreshCmd": "cat(var_dic_list()) "
    }
   },
   "types_to_exclude": [
    "module",
    "function",
    "builtin_function_or_method",
    "instance",
    "_Feature"
   ],
   "window_display": false
  }
 },
 "nbformat": 4,
 "nbformat_minor": 4
}
