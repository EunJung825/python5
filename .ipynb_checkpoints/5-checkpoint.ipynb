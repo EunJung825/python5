{
 "cells": [
  {
   "cell_type": "markdown",
   "metadata": {},
   "source": [
    "# 3. 운영체제\n",
    "#### 특징\n",
    "사용자와 컴퓨터간의 인터페이스를 제공하는 소프트웨어\n",
    "처리능력,신뢰도,사용가능도 향상\n",
    "컴퓨터 시스템의 자원에 접근\n",
    "#### 운영체제가 자원들을 관리하는 과정\n",
    "자원들의 상태 파악, 분배정책수립,자원배당,자워회수\n",
    "#### 제어프로그램\n",
    "감시프로그램,작업제어프로그램,데이터관리프로그램\n",
    "#### 관리작업\n",
    "#### 처리프로그램\n",
    "서비스프로그램,문제프로그램,언어번역프로그램\n",
    "#### 운영체제 세대별 발달 과정\n",
    "1세대:일괄처리\n",
    "2세대:다중프로그래밍,시분할시스템,다중프로세싱,실시간시스템\n",
    "3세대:다중모드\n",
    "4세대:분산처리시스템\n",
    "\n",
    "## 시스템소프트웨어 종류\n",
    "S/W분류\n",
    "시스템소프트웨어\n",
    "언어번역및실행과정\n",
    "컴파일러,인터프리터\n",
    "어셈블러\n",
    "로더\n",
    "매크로프로세서\n",
    "\n",
    "## 프로세스개요\n",
    "#### 프로세스:주기억장치저장,최소단위,비동기적\n",
    "#### 스레드: 소프트웨어접근방법,병행성증대,다중수행가능,문맥교환,운영체제성능개선\n",
    "#### 프로세스 제어 블록(부모자식 공유X)\n",
    "#### 프로세스 제어 블록-저장정보\n",
    "현상태,우선수위,식별자\n",
    "#### 스풀링:입출력과 다른 작업의 계산을 병행 처리\n",
    "#### 인터럽트\n",
    "프로그램검사,SVC,기계검사,외부\n",
    "\n",
    "## 프로세스 스케줄링(비선점,선점)\n",
    "컴퓨터 시스템 성능을 높이기 위해 그 사용 순서를 결정하기 위한 정책\n",
    "비선점스케줄링:비효율적,비양보\n",
    "선점스케줄링:양보,효율적\n",
    "##### 비선점>FIFO=FCFS\n",
    "준비상태에서 도착한 순서에 따라 CPU할당\n",
    "#### 비선점>SJF\n",
    "대기시작 작고, 예측 어려움\n",
    "#### 비선점>HRN\n",
    "SJP단점 보안\n",
    "#### 선점>RR\n",
    "대화식 시분할 시스템\n",
    "#### 선점>SRT\n",
    "SJF방식으로 선점형 기법\n",
    "#### 문맥교환/노화기법\n",
    "\n",
    "## 병행프로세스와 교착상태\n",
    "두개 이상의 프로세스들이 동시에 존재하며 실행 상태에 있는것\n",
    "##### 임계구역: 한순간에는 반드시 하나의 프로세스에 의해서만 자원 사용, 보호된영역\n",
    "독적할 수 없다\n",
    "#### 상호배제: 프로세스가 공유파일,공유메모리 사용하고 있을때 다른 프로세스들이 사용하지 못하도록 배제\n",
    "#### 데커알고리즘\n",
    "교착상태가 발생하지 않음,상호배제 보장\n",
    "#### 동기화 기법>세마포어\n",
    "신호기,깃발\n",
    "#### 동기화기법>모니터\n",
    "임계구역과 유사한 개념\n",
    "#### 교착상태:예측못한다운\n",
    "상호배제에 의해 나타나는 문제점\n",
    "#### 교착상태 발생 4가지 필요충분 조건\n",
    "상호배제\n",
    "점유와대기\n",
    "비선점\n",
    "환형대기\n",
    "#### 교착상태해결방안\n",
    "예방기법:상호배제부정,비선점부정,점유와대기부정,환형대기부정,낭비가장심함\n",
    "회피기법:은행원알고리즘\n",
    "발견기법:교착상태 발생했는지 점검하여 교착 상태 있는 프로세스와 자원을 발견하는것\n",
    "회복기법::교착상태 일으킨 프로세스 종료,할당된 자원을 선점하여 프로세스나 자원회복\n",
    "##### 은행원알고리즘\n",
    "프로세스에게 자원을 할당하여 교착 상태가 발생하지 않으며 모든 프로세스가 완료될 수 있는 상태를 안전상태,교착상태가 발생할 수 있는 상태를 불안전상태\n"
   ]
  },
  {
   "cell_type": "code",
   "execution_count": null,
   "metadata": {},
   "outputs": [],
   "source": []
  }
 ],
 "metadata": {
  "kernelspec": {
   "display_name": "Python 3",
   "language": "python",
   "name": "python3"
  },
  "language_info": {
   "codemirror_mode": {
    "name": "ipython",
    "version": 3
   },
   "file_extension": ".py",
   "mimetype": "text/x-python",
   "name": "python",
   "nbconvert_exporter": "python",
   "pygments_lexer": "ipython3",
   "version": "3.8.5"
  },
  "toc": {
   "base_numbering": 1,
   "nav_menu": {},
   "number_sections": true,
   "sideBar": true,
   "skip_h1_title": false,
   "title_cell": "Table of Contents",
   "title_sidebar": "Contents",
   "toc_cell": false,
   "toc_position": {},
   "toc_section_display": true,
   "toc_window_display": false
  },
  "varInspector": {
   "cols": {
    "lenName": 16,
    "lenType": 16,
    "lenVar": 40
   },
   "kernels_config": {
    "python": {
     "delete_cmd_postfix": "",
     "delete_cmd_prefix": "del ",
     "library": "var_list.py",
     "varRefreshCmd": "print(var_dic_list())"
    },
    "r": {
     "delete_cmd_postfix": ") ",
     "delete_cmd_prefix": "rm(",
     "library": "var_list.r",
     "varRefreshCmd": "cat(var_dic_list()) "
    }
   },
   "types_to_exclude": [
    "module",
    "function",
    "builtin_function_or_method",
    "instance",
    "_Feature"
   ],
   "window_display": false
  }
 },
 "nbformat": 4,
 "nbformat_minor": 4
}
