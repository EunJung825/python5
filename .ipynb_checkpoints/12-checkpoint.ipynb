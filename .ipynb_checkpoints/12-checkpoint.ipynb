{
 "cells": [
  {
   "cell_type": "markdown",
   "metadata": {},
   "source": [
    "# 데이터베이스\n",
    "\n",
    "1. 데이터베이스 강의 목차\n",
    "01강 - 데이터베이스 정의\n",
    "02강 - DBMS,스키마,데이터언어,DBA \n",
    "03강 - DB설계,데이터모델,ER모델\n",
    "04강 - 논리적데이터모델,관계형DB\n",
    "05강 - 관계대수,관계해석,정규화\n",
    "06강 - SQL,뷰,시스템카탈로그\n",
    "07강 - 내장SQL,고급데이터베이스\n",
    "08강 - 자료구조(선형/비선형구조)\n",
    "09강 - 자료구조(정렬/검색)\n",
    "10강 - 자료구조(파일편성)\n",
    "2. 기출문제 출제경향 분석 (’99 ~ ) \n",
    "3%\n",
    "11%\n",
    "15%\n",
    "12%\n",
    "8%\n",
    "16%\n",
    "15% (산업기사 4%)\n",
    "12% (산업기사 18%)\n",
    "5% (산업기사 8%)\n",
    "3%"
   ]
  },
  {
   "cell_type": "code",
   "execution_count": null,
   "metadata": {},
   "outputs": [],
   "source": []
  }
 ],
 "metadata": {
  "kernelspec": {
   "display_name": "Python 3",
   "language": "python",
   "name": "python3"
  },
  "language_info": {
   "codemirror_mode": {
    "name": "ipython",
    "version": 3
   },
   "file_extension": ".py",
   "mimetype": "text/x-python",
   "name": "python",
   "nbconvert_exporter": "python",
   "pygments_lexer": "ipython3",
   "version": "3.8.5"
  },
  "toc": {
   "base_numbering": 1,
   "nav_menu": {},
   "number_sections": true,
   "sideBar": true,
   "skip_h1_title": false,
   "title_cell": "Table of Contents",
   "title_sidebar": "Contents",
   "toc_cell": false,
   "toc_position": {},
   "toc_section_display": true,
   "toc_window_display": false
  },
  "varInspector": {
   "cols": {
    "lenName": 16,
    "lenType": 16,
    "lenVar": 40
   },
   "kernels_config": {
    "python": {
     "delete_cmd_postfix": "",
     "delete_cmd_prefix": "del ",
     "library": "var_list.py",
     "varRefreshCmd": "print(var_dic_list())"
    },
    "r": {
     "delete_cmd_postfix": ") ",
     "delete_cmd_prefix": "rm(",
     "library": "var_list.r",
     "varRefreshCmd": "cat(var_dic_list()) "
    }
   },
   "types_to_exclude": [
    "module",
    "function",
    "builtin_function_or_method",
    "instance",
    "_Feature"
   ],
   "window_display": false
  }
 },
 "nbformat": 4,
 "nbformat_minor": 4
}
