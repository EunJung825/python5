{
 "cells": [
  {
   "cell_type": "markdown",
   "metadata": {},
   "source": [
    "# 2-1 전자계산기 구조\n",
    "#### 논리회로 : 2진정보(1,0)를 기반으로 and,or,nor논리연산에 따라 동작을 수행하는 논리숫자로 구성\n",
    "#### 논리게이트\n",
    "and:입력신호가 모두1일때, 1출력\n",
    "or:입력신호중 1개만 1이려도 출력\n",
    "nor:입력된 정보를 반대로 변환하여 출력\n",
    "xor: 입력되는 값이 모두 같으면0, 한개라도 틀리면 1출력\n",
    "#### 불대수: 논리회로 간소화를 위해 이용하는 논리식\n",
    "#### 카르노맵: 1이라고 표시된 부분을 묶는다.\n",
    "#### 논리회로 분류\n",
    "조합논리회로:기억능력x,입력신호에 의해서만 출력 결정\n",
    "순서논리회로:기억능력o, 입력신호와 현재신호에 의해 출력 결정\n",
    "#### 반가산기:2진수 1자리의 덧셈기\n",
    "#### 전가산기: 자리올림을 포함시켜 1비트 크기의 2진수를 더해서 합과 자리올림 구하는 논리회로\n",
    "#### 디코더(해독기): 사람의 언어 기계어로 바꾸기,and gate\n",
    "#### 인코더: OR gate로 구성\n",
    "#### 멀티플렉서:or gate\n",
    "#### 디멀티플렉서: and gate\n",
    "#### 자료의단위\n",
    "비트:정보의 최소 단위\n",
    "#### 진법변환\n",
    "2진수(0,1), 8진수(0~7), 16진수(0~9,A~F), 10진수(0~9)\n",
    "#### 보수: 서로 상반되는 보수를 이용하면 가산기(덧셈)을 이용해서 뺄셈을 할 수 있다.\n",
    "#### 음수 표현 방법\n",
    "부호화 절대치/부호화1의보수/부호화2의보수\n",
    "#### 외부적 표현 방식\n",
    "그레이\n",
    "#### 내부적 표현 방식: 고정 소수점 표현\n",
    "#### 내부적 표현방식:부동 소수점 표현\n",
    "#### 중앙처리장치구성\n",
    "제어장치\n",
    "연산장치\n",
    "레지스터\n",
    "버스\n",
    "#### 명령어 구성\n",
    "연산자부\n",
    "준소부\n",
    "#### 연산자 기능\n",
    "함수연산,자료전달,제어,입/출력기능\n",
    "#### 주소지정방식\n",
    "즉시,직접,간접,상대,인덱스,베이스"
   ]
  },
  {
   "cell_type": "code",
   "execution_count": null,
   "metadata": {},
   "outputs": [],
   "source": []
  }
 ],
 "metadata": {
  "kernelspec": {
   "display_name": "Python 3",
   "language": "python",
   "name": "python3"
  },
  "language_info": {
   "codemirror_mode": {
    "name": "ipython",
    "version": 3
   },
   "file_extension": ".py",
   "mimetype": "text/x-python",
   "name": "python",
   "nbconvert_exporter": "python",
   "pygments_lexer": "ipython3",
   "version": "3.8.5"
  },
  "toc": {
   "base_numbering": 1,
   "nav_menu": {},
   "number_sections": true,
   "sideBar": true,
   "skip_h1_title": false,
   "title_cell": "Table of Contents",
   "title_sidebar": "Contents",
   "toc_cell": false,
   "toc_position": {},
   "toc_section_display": true,
   "toc_window_display": false
  },
  "varInspector": {
   "cols": {
    "lenName": 16,
    "lenType": 16,
    "lenVar": 40
   },
   "kernels_config": {
    "python": {
     "delete_cmd_postfix": "",
     "delete_cmd_prefix": "del ",
     "library": "var_list.py",
     "varRefreshCmd": "print(var_dic_list())"
    },
    "r": {
     "delete_cmd_postfix": ") ",
     "delete_cmd_prefix": "rm(",
     "library": "var_list.r",
     "varRefreshCmd": "cat(var_dic_list()) "
    }
   },
   "types_to_exclude": [
    "module",
    "function",
    "builtin_function_or_method",
    "instance",
    "_Feature"
   ],
   "window_display": false
  }
 },
 "nbformat": 4,
 "nbformat_minor": 4
}
